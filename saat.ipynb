{
 "cells": [
  {
   "cell_type": "code",
   "execution_count": 1,
   "id": "6b325f44",
   "metadata": {},
   "outputs": [
    {
     "name": "stdout",
     "output_type": "stream",
     "text": [
      "Requirement already satisfied: Pillow in c:\\users\\mehme\\anaconda3\\lib\\site-packages (9.0.1)\n",
      "Note: you may need to restart the kernel to use updated packages.\n"
     ]
    }
   ],
   "source": [
    "pip install Pillow"
   ]
  },
  {
   "cell_type": "code",
   "execution_count": 1,
   "id": "a023d752",
   "metadata": {},
   "outputs": [],
   "source": [
    "# improt whole module \n",
    "from tkinter import *\n",
    "from tkinter.ttk import *\n",
    "from PIL import ImageTk, Image\n",
    "import os\n",
    "# importing strftime function to\n",
    "# rretrieve system's time\n",
    "from time import strftime\n",
    "# creating tkinter window \n",
    "root = Tk()\n",
    "root.title('clock')\n",
    "# This function is used to\n",
    "# display time on the label\n",
    "def time():\n",
    "    string = strftime('%H:%M:%S %p')\n",
    "    lbl.config(text = string)\n",
    "    lbl.after(1000, time)\n",
    "# loading the image\n",
    "img = ImageTk.PhotoImage(Image.open(\"wallpaper_w10.jpg\"))\n",
    "  \n",
    "# reading the image\n",
    "panel = Label(root, image = img)\n",
    "panel.place(x = 0, y = 0)\n",
    "# Styling the label widget so that clock\n",
    "# will look more attractive\n",
    "lbl = Label(panel, font = ('calibri', 40, 'bold'),\n",
    "            background = 'black',\n",
    "            foreground = 'white')\n",
    "# placing clock at the centre\n",
    "# of the tkinter window\n",
    "lbl.place(x = 0, y = 0, width = 150, height = 400)\n",
    "\n",
    "time()\n",
    "mainloop()"
   ]
  },
  {
   "cell_type": "code",
   "execution_count": null,
   "id": "4743179d",
   "metadata": {},
   "outputs": [],
   "source": []
  }
 ],
 "metadata": {
  "kernelspec": {
   "display_name": "Python 3 (ipykernel)",
   "language": "python",
   "name": "python3"
  },
  "language_info": {
   "codemirror_mode": {
    "name": "ipython",
    "version": 3
   },
   "file_extension": ".py",
   "mimetype": "text/x-python",
   "name": "python",
   "nbconvert_exporter": "python",
   "pygments_lexer": "ipython3",
   "version": "3.9.12"
  }
 },
 "nbformat": 4,
 "nbformat_minor": 5
}
